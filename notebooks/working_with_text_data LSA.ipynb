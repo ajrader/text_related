{
 "cells": [
  {
   "cell_type": "code",
   "execution_count": 1,
   "metadata": {
    "collapsed": true
   },
   "outputs": [],
   "source": [
    "# Author: Peter Prettenhofer <peter.prettenhofer@gmail.com>\n",
    "#         Lars Buitinck <L.J.Buitinck@uva.nl>\n",
    "# License: BSD 3 clause\n",
    "\n",
    "from __future__ import print_function\n",
    "\n",
    "from sklearn.datasets import fetch_20newsgroups\n",
    "from sklearn.decomposition import TruncatedSVD\n",
    "from sklearn.feature_extraction.text import TfidfVectorizer\n",
    "from sklearn.feature_extraction.text import HashingVectorizer\n",
    "from sklearn.feature_extraction.text import TfidfTransformer\n",
    "from sklearn.pipeline import make_pipeline\n",
    "from sklearn.preprocessing import Normalizer\n",
    "from sklearn import metrics\n",
    "\n",
    "from sklearn.cluster import KMeans, MiniBatchKMeans\n",
    "\n",
    "import logging\n",
    "from optparse import OptionParser\n",
    "import sys\n",
    "from time import time\n",
    "\n",
    "import numpy as np\n",
    "\n",
    "\n",
    "# Display progress logs on stdout\n",
    "logging.basicConfig(level=logging.INFO,\n",
    "                    format='%(asctime)s %(levelname)s %(message)s')\n"
   ]
  },
  {
   "cell_type": "code",
   "execution_count": 2,
   "metadata": {
    "collapsed": false
   },
   "outputs": [
    {
     "name": "stdout",
     "output_type": "stream",
     "text": [
      "Automatically created module for IPython interactive environment\n",
      "Usage: __main__.py [options]\n",
      "\n",
      "Options:\n",
      "  -h, --help            show this help message and exit\n",
      "  --lsa=N_COMPONENTS    Preprocess documents with latent semantic analysis.\n",
      "  --no-minibatch        Use ordinary k-means algorithm (in batch mode).\n",
      "  --no-idf              Disable Inverse Document Frequency feature weighting.\n",
      "  --use-hashing         Use a hashing feature vectorizer\n",
      "  --n-features=N_FEATURES\n",
      "                        Maximum number of features (dimensions) to extract\n",
      "                        from text.\n",
      "  --verbose             Print progress reports inside k-means algorithm.\n"
     ]
    },
    {
     "name": "stderr",
     "output_type": "stream",
     "text": [
      "Usage: __main__.py [options]\n",
      "\n",
      "__main__.py: error: no such option: -f\n"
     ]
    },
    {
     "ename": "SystemExit",
     "evalue": "2",
     "output_type": "error",
     "traceback": [
      "An exception has occurred, use %tb to see the full traceback.\n",
      "\u001b[1;31mSystemExit\u001b[0m\u001b[1;31m:\u001b[0m 2\n"
     ]
    },
    {
     "name": "stderr",
     "output_type": "stream",
     "text": [
      "To exit: use 'exit', 'quit', or Ctrl-D.\n"
     ]
    }
   ],
   "source": [
    "# parse commandline arguments\n",
    "op = OptionParser()\n",
    "op.add_option(\"--lsa\",\n",
    "              dest=\"n_components\", type=\"int\",\n",
    "              help=\"Preprocess documents with latent semantic analysis.\")\n",
    "op.add_option(\"--no-minibatch\",\n",
    "              action=\"store_false\", dest=\"minibatch\", default=True,\n",
    "              help=\"Use ordinary k-means algorithm (in batch mode).\")\n",
    "op.add_option(\"--no-idf\",\n",
    "              action=\"store_false\", dest=\"use_idf\", default=True,\n",
    "              help=\"Disable Inverse Document Frequency feature weighting.\")\n",
    "op.add_option(\"--use-hashing\",\n",
    "              action=\"store_true\", default=False,\n",
    "              help=\"Use a hashing feature vectorizer\")\n",
    "op.add_option(\"--n-features\", type=int, default=10000,\n",
    "              help=\"Maximum number of features (dimensions)\"\n",
    "                   \" to extract from text.\")\n",
    "op.add_option(\"--verbose\",\n",
    "              action=\"store_true\", dest=\"verbose\", default=False,\n",
    "              help=\"Print progress reports inside k-means algorithm.\")\n",
    "\n",
    "print(__doc__)\n",
    "op.print_help()\n",
    "\n",
    "(opts, args) = op.parse_args()\n",
    "if len(args) > 0:\n",
    "    op.error(\"this script takes no arguments.\")\n",
    "    sys.exit(1)\n",
    "\n",
    "\n"
   ]
  },
  {
   "cell_type": "code",
   "execution_count": 3,
   "metadata": {
    "collapsed": false
   },
   "outputs": [
    {
     "name": "stdout",
     "output_type": "stream",
     "text": [
      "Loading 20 newsgroups dataset for categories:\n",
      "['alt.atheism', 'talk.religion.misc', 'comp.graphics', 'sci.space']\n"
     ]
    }
   ],
   "source": [
    "###############################################################################\n",
    "# Load some categories from the training set\n",
    "categories = [\n",
    "    'alt.atheism',\n",
    "    'talk.religion.misc',\n",
    "    'comp.graphics',\n",
    "    'sci.space',\n",
    "]\n",
    "# Uncomment the following to do the analysis on all the categories\n",
    "#categories = None\n",
    "\n",
    "print(\"Loading 20 newsgroups dataset for categories:\")\n",
    "print(categories)\n",
    "\n",
    "\n"
   ]
  },
  {
   "cell_type": "code",
   "execution_count": 4,
   "metadata": {
    "collapsed": true
   },
   "outputs": [],
   "source": [
    "from sklearn.datasets import load_files"
   ]
  },
  {
   "cell_type": "code",
   "execution_count": 6,
   "metadata": {
    "collapsed": false
   },
   "outputs": [
    {
     "name": "stdout",
     "output_type": "stream",
     "text": [
      "2034 documents\n",
      "4 categories\n",
      "\n"
     ]
    }
   ],
   "source": [
    "#dataset = fetch_20newsgroups(subset='all', categories=categories,\n",
    "#                             shuffle=True, random_state=42,download_if_missing = False)\n",
    "dataset = load_files('/home/kesj/scikit_learn_data/20news_home/20news-bydate-train/', categories=categories,\n",
    "                     shuffle=True, random_state=42,encoding='ISO-8859-1') # input is not utf-8 compliant\n",
    "\n",
    "print(\"%d documents\" % len(dataset.data))\n",
    "print(\"%d categories\" % len(dataset.target_names))\n",
    "print()\n"
   ]
  },
  {
   "cell_type": "code",
   "execution_count": 8,
   "metadata": {
    "collapsed": false
   },
   "outputs": [],
   "source": [
    "n_features = 10000\n",
    "\n",
    "use_idf = True"
   ]
  },
  {
   "cell_type": "code",
   "execution_count": 22,
   "metadata": {
    "collapsed": false
   },
   "outputs": [
    {
     "name": "stdout",
     "output_type": "stream",
     "text": [
      "Extracting features from the training dataset using a sparse vectorizer\n",
      "done in 0.882731s\n",
      "n_samples: 2034, n_features: 10000\n",
      "\n"
     ]
    }
   ],
   "source": [
    "labels = dataset.target\n",
    "true_k = np.unique(labels).shape[0]\n",
    "\n",
    "print(\"Extracting features from the training dataset using a sparse vectorizer\")\n",
    "t0 = time()\n",
    "\"\"\"if opts.use_hashing:\n",
    "    if opts.use_idf:\n",
    "        # Perform an IDF normalization on the output of HashingVectorizer\n",
    "        hasher = HashingVectorizer(n_features=opts.n_features,\n",
    "                                   stop_words='english', non_negative=True,\n",
    "                                   norm=None, binary=False)\n",
    "        vectorizer = make_pipeline(hasher, TfidfTransformer())\n",
    "    else:\n",
    "        vectorizer = HashingVectorizer(n_features=opts.n_features,\n",
    "                                       stop_words='english',\n",
    "                                       non_negative=False, norm='l2',\n",
    "                                       binary=False)\n",
    "else:\n",
    "\"\"\"\n",
    "vectorizer = TfidfVectorizer(max_df=0.5, max_features=n_features,\n",
    "                                 min_df=2, stop_words='english',\n",
    "                                 use_idf=use_idf)\n",
    "\n",
    "X = vectorizer.fit_transform(dataset.data)\n",
    "\n",
    "print(\"done in %fs\" % (time() - t0))\n",
    "print(\"n_samples: %d, n_features: %d\" % X.shape)\n",
    "print()\n"
   ]
  },
  {
   "cell_type": "code",
   "execution_count": 21,
   "metadata": {
    "collapsed": false
   },
   "outputs": [
    {
     "data": {
      "text/plain": [
       "4"
      ]
     },
     "execution_count": 21,
     "metadata": {},
     "output_type": "execute_result"
    }
   ],
   "source": [
    "true_k"
   ]
  },
  {
   "cell_type": "code",
   "execution_count": 23,
   "metadata": {
    "collapsed": false
   },
   "outputs": [],
   "source": [
    "n_components= 100"
   ]
  },
  {
   "cell_type": "code",
   "execution_count": 24,
   "metadata": {
    "collapsed": false
   },
   "outputs": [
    {
     "name": "stdout",
     "output_type": "stream",
     "text": [
      "Performing dimensionality reduction using LSA\n",
      "done in 0.623237s\n",
      "Explained variance of the SVD step: 27%\n",
      "\n"
     ]
    }
   ],
   "source": [
    "\n",
    "if n_components:\n",
    "    print(\"Performing dimensionality reduction using LSA\")\n",
    "    t0 = time()\n",
    "    # Vectorizer results are normalized, which makes KMeans behave as\n",
    "    # spherical k-means for better results. Since LSA/SVD results are\n",
    "    # not normalized, we have to redo the normalization.\n",
    "    svd = TruncatedSVD(n_components)\n",
    "    normalizer = Normalizer(copy=False)\n",
    "    lsa = make_pipeline(svd, normalizer)\n",
    "\n",
    "    Xlsa = lsa.fit_transform(X)\n",
    "\n",
    "    print(\"done in %fs\" % (time() - t0))\n",
    "\n",
    "    explained_variance = svd.explained_variance_ratio_.sum()\n",
    "    print(\"Explained variance of the SVD step: {}%\".format(\n",
    "        int(explained_variance * 100)))\n",
    "\n",
    "    print()\n",
    "\n"
   ]
  },
  {
   "cell_type": "code",
   "execution_count": 27,
   "metadata": {
    "collapsed": false
   },
   "outputs": [],
   "source": [
    "import matplotlib.pyplot as plt\n",
    "%matplotlib inline\n",
    "import seaborn as sns"
   ]
  },
  {
   "cell_type": "code",
   "execution_count": 29,
   "metadata": {
    "collapsed": false
   },
   "outputs": [
    {
     "data": {
      "text/plain": [
       "<Container object of 100 artists>"
      ]
     },
     "execution_count": 29,
     "metadata": {},
     "output_type": "execute_result"
    },
    {
     "data": {
      "image/png": "[encoded data removed]",
      "text/plain": [
       "<matplotlib.figure.Figure at 0x7f674c8ddeb8>"
      ]
     },
     "metadata": {},
     "output_type": "display_data"
    }
   ],
   "source": [
    "plt.bar(np.arange(0,len(svd.explained_variance_ratio_)),svd.explained_variance_ratio_)"
   ]
  },
  {
   "cell_type": "code",
   "execution_count": 30,
   "metadata": {
    "collapsed": false
   },
   "outputs": [
    {
     "name": "stdout",
     "output_type": "stream",
     "text": [
      "Clustering sparse data with KMeans(copy_x=True, init='k-means++', max_iter=100, n_clusters=4, n_init=1,\n",
      "    n_jobs=1, precompute_distances='auto', random_state=None, tol=0.0001,\n",
      "    verbose=True)\n",
      "Initialization complete\n",
      "Iteration  0, inertia 3222.438\n",
      "Iteration  1, inertia 1784.843\n",
      "Iteration  2, inertia 1752.376\n",
      "Iteration  3, inertia 1742.502\n",
      "Iteration  4, inertia 1739.737\n",
      "Iteration  5, inertia 1738.601\n",
      "Iteration  6, inertia 1738.107\n",
      "Iteration  7, inertia 1737.744\n",
      "Iteration  8, inertia 1737.586\n",
      "Iteration  9, inertia 1737.486\n",
      "Iteration 10, inertia 1737.262\n",
      "Iteration 11, inertia 1737.045\n",
      "Iteration 12, inertia 1736.675\n",
      "Iteration 13, inertia 1736.034\n",
      "Iteration 14, inertia 1735.430\n",
      "Iteration 15, inertia 1735.133\n",
      "Iteration 16, inertia 1734.966\n",
      "Iteration 17, inertia 1734.623\n",
      "Iteration 18, inertia 1733.887\n",
      "Iteration 19, inertia 1733.639\n",
      "Iteration 20, inertia 1733.534\n",
      "Iteration 21, inertia 1733.519\n",
      "Converged at iteration 21\n",
      "done in 0.054s\n",
      "\n",
      "Homogeneity: 0.678\n",
      "Completeness: 0.724\n",
      "V-measure: 0.700\n",
      "Adjusted Rand-Index: 0.694\n",
      "Silhouette Coefficient: 0.042\n",
      "\n",
      "Top terms per cluster:\n",
      "Cluster 0: god com people jesus sandvik don bible article think religion\n",
      "Cluster 1: keith caltech objective morality livesey sgi wpd solntze jon schneider\n",
      "Cluster 2: graphics image university thanks files com posting 3d host file\n",
      "Cluster 3: space nasa access com henry digex moon gov alaska orbit\n"
     ]
    }
   ],
   "source": [
    "minibatch = 0\n",
    "use_hashing=False\n",
    "###############################################################################\n",
    "# Do the actual clustering\n",
    "\n",
    "if minibatch:\n",
    "    km = MiniBatchKMeans(n_clusters=true_k, init='k-means++', n_init=1,\n",
    "                         init_size=1000, batch_size=1000, verbose=True)\n",
    "else:\n",
    "    km = KMeans(n_clusters=true_k, init='k-means++', max_iter=100, n_init=1,\n",
    "                verbose=True)\n",
    "\n",
    "print(\"Clustering sparse data with %s\" % km)\n",
    "t0 = time()\n",
    "km.fit(Xlsa)\n",
    "print(\"done in %0.3fs\" % (time() - t0))\n",
    "print()\n",
    "\n",
    "print(\"Homogeneity: %0.3f\" % metrics.homogeneity_score(labels, km.labels_))\n",
    "print(\"Completeness: %0.3f\" % metrics.completeness_score(labels, km.labels_))\n",
    "print(\"V-measure: %0.3f\" % metrics.v_measure_score(labels, km.labels_))\n",
    "print(\"Adjusted Rand-Index: %.3f\"\n",
    "      % metrics.adjusted_rand_score(labels, km.labels_))\n",
    "print(\"Silhouette Coefficient: %0.3f\"\n",
    "      % metrics.silhouette_score(Xlsa, km.labels_, sample_size=1000))\n",
    "\n",
    "print()\n",
    "\n",
    "\n",
    "if not use_hashing:\n",
    "    print(\"Top terms per cluster:\")\n",
    "\n",
    "    if n_components:\n",
    "        original_space_centroids = svd.inverse_transform(km.cluster_centers_)\n",
    "        order_centroids = original_space_centroids.argsort()[:, ::-1]\n",
    "    else:\n",
    "        order_centroids = km.cluster_centers_.argsort()[:, ::-1]\n",
    "\n",
    "    terms = vectorizer.get_feature_names()\n",
    "    for i in range(true_k):\n",
    "        print(\"Cluster %d:\" % i, end='')\n",
    "        for ind in order_centroids[i, :10]:\n",
    "            print(' %s' % terms[ind], end='')\n",
    "        print()"
   ]
  },
  {
   "cell_type": "code",
   "execution_count": 31,
   "metadata": {
    "collapsed": false
   },
   "outputs": [
    {
     "name": "stdout",
     "output_type": "stream",
     "text": [
      "Clustering sparse data with MiniBatchKMeans(batch_size=1000, compute_labels=True, init='k-means++',\n",
      "        init_size=1000, max_iter=100, max_no_improvement=10, n_clusters=4,\n",
      "        n_init=1, random_state=None, reassignment_ratio=0.01, tol=0.0,\n",
      "        verbose=True)\n",
      "Init 1/1 with method: k-means++\n",
      "Inertia for init 1/1: 873.970866\n",
      "Minibatch iteration 1/300: mean batch inertia: 0.880721, ewa inertia: 0.880721 \n",
      "Minibatch iteration 2/300: mean batch inertia: 0.867977, ewa inertia: 0.868196 \n",
      "Minibatch iteration 3/300: mean batch inertia: 0.862499, ewa inertia: 0.862597 \n",
      "Minibatch iteration 4/300: mean batch inertia: 0.861945, ewa inertia: 0.861957 \n",
      "Minibatch iteration 5/300: mean batch inertia: 0.862798, ewa inertia: 0.862783 \n",
      "Minibatch iteration 6/300: mean batch inertia: 0.858739, ewa inertia: 0.858809 \n",
      "Minibatch iteration 7/300: mean batch inertia: 0.865467, ewa inertia: 0.865353 \n",
      "Minibatch iteration 8/300: mean batch inertia: 0.858589, ewa inertia: 0.858705 \n",
      "Minibatch iteration 9/300: mean batch inertia: 0.853247, ewa inertia: 0.853340 \n",
      "Minibatch iteration 10/300: mean batch inertia: 0.859595, ewa inertia: 0.859488 \n",
      "Minibatch iteration 11/300: mean batch inertia: 0.856319, ewa inertia: 0.856373 \n",
      "Minibatch iteration 12/300: mean batch inertia: 0.860129, ewa inertia: 0.860065 \n",
      "Minibatch iteration 13/300: mean batch inertia: 0.860363, ewa inertia: 0.860358 \n",
      "Minibatch iteration 14/300: mean batch inertia: 0.858291, ewa inertia: 0.858327 \n",
      "Minibatch iteration 15/300: mean batch inertia: 0.856202, ewa inertia: 0.856239 \n",
      "Minibatch iteration 16/300: mean batch inertia: 0.849770, ewa inertia: 0.849882 \n",
      "Minibatch iteration 17/300: mean batch inertia: 0.861585, ewa inertia: 0.861384 \n",
      "Minibatch iteration 18/300: mean batch inertia: 0.856099, ewa inertia: 0.856190 \n",
      "Minibatch iteration 19/300: mean batch inertia: 0.853964, ewa inertia: 0.854002 \n",
      "Minibatch iteration 20/300: mean batch inertia: 0.857733, ewa inertia: 0.857669 \n",
      "Minibatch iteration 21/300: mean batch inertia: 0.857556, ewa inertia: 0.857558 \n",
      "Minibatch iteration 22/300: mean batch inertia: 0.857208, ewa inertia: 0.857214 \n",
      "Minibatch iteration 23/300: mean batch inertia: 0.853278, ewa inertia: 0.853346 \n",
      "Minibatch iteration 24/300: mean batch inertia: 0.857709, ewa inertia: 0.857634 \n",
      "Minibatch iteration 25/300: mean batch inertia: 0.856772, ewa inertia: 0.856787 \n",
      "Minibatch iteration 26/300: mean batch inertia: 0.861066, ewa inertia: 0.860992 \n",
      "Converged (lack of improvement in inertia) at iteration 26/300\n",
      "Computing label assignment and total inertia\n",
      "done in 0.137s\n",
      "\n",
      "Homogeneity: 0.634\n",
      "Completeness: 0.743\n",
      "V-measure: 0.684\n",
      "Adjusted Rand-Index: 0.639\n",
      "Silhouette Coefficient: 0.043\n",
      "\n",
      "Top terms per cluster:\n",
      "Cluster 0: god com people don article keith jesus think sandvik say\n",
      "Cluster 1: henry toronto zoo spencer zoology work utzoo kipling article launch\n",
      "Cluster 2: space nasa access com gov alaska moon digex pat shuttle\n",
      "Cluster 3: graphics university thanks image files com posting host nntp 3d\n"
     ]
    }
   ],
   "source": [
    "minibatch = 1\n",
    "use_hashing=False\n",
    "###############################################################################\n",
    "# Do the actual clustering\n",
    "\n",
    "if minibatch:\n",
    "    km = MiniBatchKMeans(n_clusters=true_k, init='k-means++', n_init=1,\n",
    "                         init_size=1000, batch_size=1000, verbose=True)\n",
    "else:\n",
    "    km = KMeans(n_clusters=true_k, init='k-means++', max_iter=100, n_init=1,\n",
    "                verbose=True)\n",
    "\n",
    "print(\"Clustering sparse data with %s\" % km)\n",
    "t0 = time()\n",
    "km.fit(Xlsa)\n",
    "print(\"done in %0.3fs\" % (time() - t0))\n",
    "print()\n",
    "\n",
    "print(\"Homogeneity: %0.3f\" % metrics.homogeneity_score(labels, km.labels_))\n",
    "print(\"Completeness: %0.3f\" % metrics.completeness_score(labels, km.labels_))\n",
    "print(\"V-measure: %0.3f\" % metrics.v_measure_score(labels, km.labels_))\n",
    "print(\"Adjusted Rand-Index: %.3f\"\n",
    "      % metrics.adjusted_rand_score(labels, km.labels_))\n",
    "print(\"Silhouette Coefficient: %0.3f\"\n",
    "      % metrics.silhouette_score(Xlsa, km.labels_, sample_size=1000))\n",
    "\n",
    "print()\n",
    "\n",
    "\n",
    "if not use_hashing:\n",
    "    print(\"Top terms per cluster:\")\n",
    "\n",
    "    if n_components:\n",
    "        original_space_centroids = svd.inverse_transform(km.cluster_centers_)\n",
    "        order_centroids = original_space_centroids.argsort()[:, ::-1]\n",
    "    else:\n",
    "        order_centroids = km.cluster_centers_.argsort()[:, ::-1]\n",
    "\n",
    "    terms = vectorizer.get_feature_names()\n",
    "    for i in range(true_k):\n",
    "        print(\"Cluster %d:\" % i, end='')\n",
    "        for ind in order_centroids[i, :10]:\n",
    "            print(' %s' % terms[ind], end='')\n",
    "        print()"
   ]
  },
  {
   "cell_type": "code",
   "execution_count": 17,
   "metadata": {
    "collapsed": false
   },
   "outputs": [
    {
     "data": {
      "text/plain": [
       "(2034, 20)"
      ]
     },
     "execution_count": 17,
     "metadata": {},
     "output_type": "execute_result"
    }
   ],
   "source": [
    "X.shape"
   ]
  },
  {
   "cell_type": "code",
   "execution_count": 18,
   "metadata": {
    "collapsed": false
   },
   "outputs": [
    {
     "data": {
      "text/plain": [
       "array([[ 0.47613781,  0.29199845, -0.01392281, -0.43450938,  0.42529957,\n",
       "         0.42043609,  0.05475372,  0.06471751, -0.02797768, -0.0390973 ,\n",
       "        -0.00686906, -0.12182542,  0.01862731,  0.0410083 , -0.14024352,\n",
       "         0.15225497,  0.14242073,  0.16323901, -0.12616133, -0.09632821]])"
      ]
     },
     "execution_count": 18,
     "metadata": {},
     "output_type": "execute_result"
    }
   ],
   "source": [
    "X[:1]"
   ]
  },
  {
   "cell_type": "code",
   "execution_count": 19,
   "metadata": {
    "collapsed": false
   },
   "outputs": [
    {
     "name": "stdout",
     "output_type": "stream",
     "text": [
      "5\n"
     ]
    }
   ],
   "source": [
    "print(len(dataset))"
   ]
  },
  {
   "cell_type": "code",
   "execution_count": null,
   "metadata": {
    "collapsed": true
   },
   "outputs": [],
   "source": []
  }
 ],
 "metadata": {
  "kernelspec": {
   "display_name": "Python 3",
   "language": "python",
   "name": "python3"
  },
  "language_info": {
   "codemirror_mode": {
    "name": "ipython",
    "version": 3
   },
   "file_extension": ".py",
   "mimetype": "text/x-python",
   "name": "python",
   "nbconvert_exporter": "python",
   "pygments_lexer": "ipython3",
   "version": "3.5.1"
  }
 },
 "nbformat": 4,
 "nbformat_minor": 0
}
