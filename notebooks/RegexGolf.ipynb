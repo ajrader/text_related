{
 "cells": [
  {
   "cell_type": "markdown",
   "metadata": {},
   "source": [
    "# Regex Golf"
   ]
  },
  {
   "cell_type": "markdown",
   "metadata": {},
   "source": [
    "## Presidents\n",
    "Take a list of the presidential elections (USA) and note the winners and losers."
   ]
  },
  {
   "cell_type": "code",
   "execution_count": 1,
   "metadata": {
    "collapsed": true
   },
   "outputs": [],
   "source": [
    "#from __future__ import division, print_function\n",
    "import re\n",
    "import itertools\n",
    "\n",
    "def words(text): return set(text.split())\n",
    "\n",
    "winners = words('''washington adams jefferson jefferson madison madison monroe \n",
    "    monroe adams jackson jackson van-buren harrison polk taylor pierce buchanan \n",
    "    lincoln lincoln grant hayes garfield cleveland harrison cleveland mckinley\n",
    "    mckinley roosevelt taft wilson wilson harding coolidge hoover roosevelt \n",
    "    roosevelt roosevelt roosevelt truman eisenhower eisenhower kennedy johnson nixon \n",
    "    nixon carter reagan reagan bush clinton clinton bush bush obama obama''')\n",
    "\n",
    "losers = words('''clinton jefferson adams pinckney pinckney clinton king adams \n",
    "    jackson adams clay van-buren van-buren clay cass scott fremont breckinridge \n",
    "    mcclellan seymour greeley tilden hancock blaine cleveland harrison bryan bryan \n",
    "    parker bryan roosevelt hughes cox davis smith hoover landon willkie dewey dewey \n",
    "    stevenson stevenson nixon goldwater humphrey mcgovern ford carter mondale \n",
    "    dukakis bush dole gore kerry mccain romney''')"
   ]
  },
  {
   "cell_type": "code",
   "execution_count": 3,
   "metadata": {
    "collapsed": false
   },
   "outputs": [
    {
     "data": {
      "text/plain": [
       "{'adams',\n",
       " 'bush',\n",
       " 'carter',\n",
       " 'cleveland',\n",
       " 'clinton',\n",
       " 'harrison',\n",
       " 'hoover',\n",
       " 'jackson',\n",
       " 'jefferson',\n",
       " 'nixon',\n",
       " 'roosevelt',\n",
       " 'van-buren'}"
      ]
     },
     "execution_count": 3,
     "metadata": {},
     "output_type": "execute_result"
    }
   ],
   "source": [
    "winners & losers"
   ]
  },
  {
   "cell_type": "code",
   "execution_count": null,
   "metadata": {
    "collapsed": true
   },
   "outputs": [],
   "source": []
  },
  {
   "cell_type": "code",
   "execution_count": 4,
   "metadata": {
    "collapsed": true
   },
   "outputs": [],
   "source": [
    "losers = losers - winners"
   ]
  },
  {
   "cell_type": "code",
   "execution_count": 5,
   "metadata": {
    "collapsed": true
   },
   "outputs": [],
   "source": [
    "def mistakes(regex, winners, losers):\n",
    "    \"The set of mistakes made by this regex in classifying winners and losers.\"\n",
    "    return ({\"Should have matched: \" + W \n",
    "             for W in winners if not re.search(regex, W)} |\n",
    "            {\"Should not have matched: \" + L \n",
    "             for L in losers if re.search(regex, L)})\n",
    "\n",
    "def verify(regex, winners, losers): \n",
    "    assert not mistakes(regex, winners, losers)\n",
    "    return True"
   ]
  },
  {
   "cell_type": "code",
   "execution_count": 6,
   "metadata": {
    "collapsed": false
   },
   "outputs": [
    {
     "data": {
      "text/plain": [
       "{'Should not have matched: fremont'}"
      ]
     },
     "execution_count": 6,
     "metadata": {},
     "output_type": "execute_result"
    }
   ],
   "source": [
    "xkcd = \"bu|[rn]t|[coy]e|[mtg]a|j|iso|n[hl]|[ae]d|lev|sh|[lnd]i|[po]o|ls\"\n",
    "\n",
    "mistakes(xkcd, winners, losers)"
   ]
  },
  {
   "cell_type": "code",
   "execution_count": 7,
   "metadata": {
    "collapsed": false
   },
   "outputs": [
    {
     "data": {
      "text/plain": [
       "True"
      ]
     },
     "execution_count": 7,
     "metadata": {},
     "output_type": "execute_result"
    }
   ],
   "source": [
    "alternative_losers = {'fillmore'} | losers - {'fremont'}\n",
    "\n",
    "verify(xkcd, winners, alternative_losers)"
   ]
  },
  {
   "cell_type": "markdown",
   "metadata": {},
   "source": [
    "## Strategy for Finding a Regex\n",
    "\n",
    "We need a strategy to find a regex that matches all the winners but none of the losers. I came up with this approach:\n",
    "\n",
    "* Generate a pool of regex parts: small regexes of a few characters, such as ```\"bu\"``` or ```\"r.e$\"``` or ```\"j\"```.\n",
    "* Consider only parts that match at least one winner, but no losers.\n",
    "* Our solution will be formed by \"or\"-ing together some of these parts (e.g. ```\"bu|n.e|j\"```).\n",
    "\n",
    "This is a set cover problem: pick some of the parts so that they cover all the winners.\n",
    "\n",
    "* Set cover is an NP-hard problem, so I feel justified in using an approximation approach that finds a small but not necessarily smallest solution.\n",
    "* For many NP-hard problems a good approximation can be had with a greedy algorithm: Pick the \"best\" part first (the one that covers the most winners with the fewest characters), and repeat, choosing the \"best\" each time until there are no more winners to cover.\n",
    "* To guarantee that we will find a solution, make sure that each winner has at least one part that matches it.\n",
    "\n",
    "There are three ways this strategy can fail to find the shortest possible regex:\n",
    "* The shortest regex might not be a disjunction. Our strategy can only find disjunctions (of the form ```\"a|b|c|...\"```).\n",
    "* The shortest regex might be a disjunction formed with different parts. For example, ``\"[rn]t\"`` is not in our pool of parts.\n",
    "* The greedy algorithm isn't guaranteed to find the shortest solution. We might have all the right parts, but pick the wrong ones.\n",
    "\n",
    "The algorithm is below. Our pool of parts is a set of strings created with ```regex_parts(winners, losers)```. We accumulate parts into the list solution, which starts empty. On each iteration choose the best part: the one with a maximum score. (I decided by default to score 4 points for each winner matched, minus one point for each character in the part.) We then add the best part to ```solution```, and remove from winners all the strings that are matched by ```best```. Finally, we update the pool, keeping only those parts that still match one or more of the remaining winners. When there are no more winners left, OR together all the solution parts to give the final regular expression string."
   ]
  },
  {
   "cell_type": "code",
   "execution_count": 8,
   "metadata": {
    "collapsed": true
   },
   "outputs": [],
   "source": [
    "def findregex(winners, losers, k=4):\n",
    "    \"Find a regex that matches all winners but no losers (sets of strings).\"\n",
    "    # Make a pool of regex parts, then pick from them to cover winners.\n",
    "    # On each iteration, add the 'best' part to 'solution',\n",
    "    # remove winners covered by best, and keep in 'pool' only parts\n",
    "    # that still match some winner.\n",
    "    pool = regex_parts(winners, losers)\n",
    "    solution = []\n",
    "    def score(part): return k * len(matches(part, winners)) - len(part)\n",
    "    while winners:\n",
    "        best = max(pool, key=score)\n",
    "        solution.append(best)\n",
    "        winners = winners - matches(best, winners)\n",
    "        pool = {r for r in pool if matches(r, winners)}\n",
    "    return OR(solution)\n",
    "\n",
    "def matches(regex, strings):\n",
    "    \"Return a set of all the strings that are matched by regex.\"\n",
    "    return {s for s in strings if re.search(regex, s)}\n",
    "\n",
    "OR = '|'.join # Join a sequence of strings with '|' between them"
   ]
  },
  {
   "cell_type": "code",
   "execution_count": null,
   "metadata": {
    "collapsed": true
   },
   "outputs": [],
   "source": []
  },
  {
   "cell_type": "code",
   "execution_count": 9,
   "metadata": {
    "collapsed": true
   },
   "outputs": [],
   "source": [
    "def regex_parts(winners, losers):\n",
    "    \"Return parts that match at least one winner, but no loser.\"\n",
    "    wholes = {'^' + w + '$'  for w in winners}\n",
    "    parts = {d for w in wholes for p in subparts(w) for d in dotify(p)}\n",
    "    return wholes | {p for p in parts if not matches(p, losers)}\n",
    "\n",
    "def subparts(word, N=4):\n",
    "    \"Return a set of subparts of word: consecutive characters up to length N (default 4).\"\n",
    "    return set(word[i:i+n+1] for i in range(len(word)) for n in range(N)) \n",
    "\n",
    "def dotify(part):\n",
    "    \"Return all ways to replace a subset of chars in part with '.'.\"\n",
    "    choices = map(replacements, part)\n",
    "    return {cat(chars) for chars in itertools.product(*choices)}\n",
    "\n",
    "def replacements(c): return c if c in '^$' else c + '.'\n",
    "\n",
    "cat = ''.join"
   ]
  },
  {
   "cell_type": "code",
   "execution_count": 10,
   "metadata": {
    "collapsed": false
   },
   "outputs": [
    {
     "data": {
      "text/plain": [
       "True"
      ]
     },
     "execution_count": 10,
     "metadata": {},
     "output_type": "execute_result"
    }
   ],
   "source": [
    "solution = findregex(winners,losers)\n",
    "verify(solution,winners, losers)"
   ]
  },
  {
   "cell_type": "code",
   "execution_count": 11,
   "metadata": {
    "collapsed": false
   },
   "outputs": [
    {
     "data": {
      "text/plain": [
       "(54, 'a.a|a..i|j|li|a.t|i..n|oo|bu|n.e|ay.|r.e$|ru|po|ls|l.v')"
      ]
     },
     "execution_count": 11,
     "metadata": {},
     "output_type": "execute_result"
    }
   ],
   "source": [
    "len(solution),solution"
   ]
  },
  {
   "cell_type": "code",
   "execution_count": 12,
   "metadata": {
    "collapsed": false
   },
   "outputs": [
    {
     "data": {
      "text/plain": [
       "(63, 'bu|[rn]t|[coy]e|[mtg]a|j|iso|n[hl]|[ae]d|lev|sh|[lnd]i|[po]o|ls')"
      ]
     },
     "execution_count": 12,
     "metadata": {},
     "output_type": "execute_result"
    }
   ],
   "source": [
    "len(xkcd),xkcd"
   ]
  },
  {
   "cell_type": "markdown",
   "metadata": {},
   "source": [
    "### Tests\n",
    "Here's a suite to give us more confidence in (and familiarity with) our functions"
   ]
  },
  {
   "cell_type": "code",
   "execution_count": 13,
   "metadata": {
    "collapsed": false
   },
   "outputs": [
    {
     "data": {
      "text/plain": [
       "'tests pass'"
      ]
     },
     "execution_count": 13,
     "metadata": {},
     "output_type": "execute_result"
    }
   ],
   "source": [
    "def tests():\n",
    "    assert subparts('^it$') == {'^', 'i', 't', '$', '^i', 'it', 't$', '^it', 'it$', '^it$'}\n",
    "    assert subparts('this') == {'t', 'h', 'i', 's', 'th', 'hi', 'is', 'thi', 'his', 'this'}\n",
    "    subparts('banana') == {'a', 'an', 'ana', 'anan', 'b', 'ba', 'ban', 'bana', \n",
    "                           'n', 'na', 'nan', 'nana'}\n",
    "\n",
    "    assert dotify('it') == {'it', 'i.', '.t', '..'}\n",
    "    assert dotify('^it$') == {'^it$', '^i.$', '^.t$', '^..$'}\n",
    "    assert dotify('this') == {'this', 'thi.', 'th.s', 'th..', 't.is', 't.i.', 't..s', 't...',\n",
    "                              '.his', '.hi.', '.h.s', '.h..', '..is', '..i.', '...s', '....'}\n",
    "    assert regex_parts({'win'}, {'losers', 'bin', 'won'}) == {\n",
    "        '^win$', '^win', '^wi.', 'wi.',  'wi', '^wi', 'win$', 'win', 'wi.$'}\n",
    "    assert regex_parts({'win'}, {'bin', 'won', 'wine', 'wit'}) == {'^win$', 'win$'}\n",
    "    regex_parts({'boy', 'coy'}, \n",
    "                {'ahoy', 'toy', 'book', 'cook', 'boycott', 'cowboy', 'cod', 'buy', 'oy', \n",
    "                 'foil', 'coyote'}) == {'^boy$', '^coy$', 'c.y$', 'coy$'}\n",
    "\n",
    "    assert matches('a|b|c', {'a', 'b', 'c', 'd', 'e'}) == {'a', 'b', 'c'}\n",
    "    assert matches('a|b|c', {'any', 'bee', 'succeed', 'dee', 'eee!'}) == {\n",
    "        'any', 'bee', 'succeed'}\n",
    "\n",
    "    assert OR(['a', 'b', 'c']) == 'a|b|c'\n",
    "    assert OR(['a']) == 'a'\n",
    "\n",
    "    assert words('this is a test this is') == {'this', 'is', 'a', 'test'}\n",
    "\n",
    "    assert findregex({\"ahahah\", \"ciao\"},  {\"ahaha\", \"bye\"}) == 'a.$'\n",
    "    assert findregex({\"this\", \"that\", \"the other\"}, {\"one\", \"two\", \"here\", \"there\"}) == 'h..$'\n",
    "    assert findregex({'boy', 'coy', 'toy', 'joy'}, {'ahoy', 'buy', 'oy', 'foil'}) == '^.oy'\n",
    "\n",
    "    assert not mistakes('a|b|c', {'ahoy', 'boy', 'coy'}, {'joy', 'toy'})\n",
    "    assert not mistakes('^a|^b|^c', {'ahoy', 'boy', 'coy'}, {'joy', 'toy', 'kickback'})\n",
    "    assert mistakes('^.oy', {'ahoy', 'boy', 'coy'}, {'joy', 'ploy'}) == {\n",
    "        \"Should have matched: ahoy\", \n",
    "        \"Should not have matched: joy\"}\n",
    "    return 'tests pass'\n",
    "\n",
    "tests()"
   ]
  },
  {
   "cell_type": "markdown",
   "metadata": {},
   "source": [
    "## Regex Golf on Aribitrary Lists\n",
    "Let's move on to the arbitrary lists. I define ```report```, to call ```findregex```, verify the solution, and print the number of characters in the solution, the numer of parts, the __competitive ratio__ (the ratio between the lengths of a trivial solution and the actual solution), and the number of winners and losers.\n",
    "\n",
    "\n"
   ]
  },
  {
   "cell_type": "code",
   "execution_count": 14,
   "metadata": {
    "collapsed": false
   },
   "outputs": [
    {
     "name": "stdout",
     "output_type": "stream",
     "text": [
      "Characters: 54, Parts: 15, Competitive ratio: 4.9, Winners: 34, Losers: 34\n"
     ]
    },
    {
     "data": {
      "text/plain": [
       "'a.a|a..i|j|li|a.t|i..n|oo|bu|n.e|ay.|r.e$|ru|po|ls|l.v'"
      ]
     },
     "execution_count": 14,
     "metadata": {},
     "output_type": "execute_result"
    }
   ],
   "source": [
    "def report(winners, losers):\n",
    "    \"Find a regex to match A but not B, and vice-versa.  Print summary.\"\n",
    "    solution = findregex(winners, losers)\n",
    "    verify(solution, winners, losers)\n",
    "    trivial  = '^(' + OR(winners) + ')$'\n",
    "    print('Characters: {}, Parts: {}, Competitive ratio: {:.1f}, Winners: {}, Losers: {}'.format(\n",
    "          len(solution), solution.count('|') + 1, len(trivial) / len(solution) , len(winners), len(losers)))\n",
    "    return solution\n",
    "\n",
    "report(winners, losers)"
   ]
  },
  {
   "cell_type": "markdown",
   "metadata": {},
   "source": [
    "The top 10 boys and girls names for 2012"
   ]
  },
  {
   "cell_type": "code",
   "execution_count": 15,
   "metadata": {
    "collapsed": false
   },
   "outputs": [
    {
     "name": "stdout",
     "output_type": "stream",
     "text": [
      "Characters: 11, Parts: 3, Competitive ratio: 6.4, Winners: 10, Losers: 10\n"
     ]
    },
    {
     "data": {
      "text/plain": [
       "'e.$|a.$|a.o'"
      ]
     },
     "execution_count": 15,
     "metadata": {},
     "output_type": "execute_result"
    }
   ],
   "source": [
    "boys  = words('jacob mason ethan noah william liam jayden michael alexander aiden')\n",
    "girls = words('sophia emma isabella olivia ava emily abigail mia madison elizabeth')\n",
    "\n",
    "report(boys, girls)"
   ]
  },
  {
   "cell_type": "markdown",
   "metadata": {},
   "source": [
    "This is interesting because ```'a.$|e.$|a.o'``` is an example of something that could be re-written in a shorter form if we allowed more complex parts. The following would save one character:"
   ]
  },
  {
   "cell_type": "code",
   "execution_count": 16,
   "metadata": {
    "collapsed": false
   },
   "outputs": [
    {
     "data": {
      "text/plain": [
       "True"
      ]
     },
     "execution_count": 16,
     "metadata": {},
     "output_type": "execute_result"
    }
   ],
   "source": [
    "verify('[ae].(o|$)',boys,girls)"
   ]
  },
  {
   "cell_type": "code",
   "execution_count": null,
   "metadata": {
    "collapsed": true
   },
   "outputs": [],
   "source": []
  }
 ],
 "metadata": {
  "kernelspec": {
   "display_name": "Python 3",
   "language": "python",
   "name": "python3"
  },
  "language_info": {
   "codemirror_mode": {
    "name": "ipython",
    "version": 3
   },
   "file_extension": ".py",
   "mimetype": "text/x-python",
   "name": "python",
   "nbconvert_exporter": "python",
   "pygments_lexer": "ipython3",
   "version": "3.5.1"
  }
 },
 "nbformat": 4,
 "nbformat_minor": 0
}
