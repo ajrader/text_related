{
 "cells": [
  {
   "cell_type": "markdown",
   "metadata": {},
   "source": [
    "# Simulation of Pi (using R)"
   ]
  },
  {
   "cell_type": "code",
   "execution_count": null,
   "metadata": {
    "collapsed": true
   },
   "outputs": [],
   "source": [
    "n <- 1000000\n",
    "x <-runif(n); y <- runif(n)\n",
    "inside <- x^2 + y^2 <=1\n"
   ]
  },
  {
   "cell_type": "code",
   "execution_count": null,
   "metadata": {
    "collapsed": false
   },
   "outputs": [],
   "source": [
    "pi <- 4*sum(inside)/n\n",
    "idx <- sample.int(trunc(n/log(n)),replace = FALSE)\n",
    "x<-x[idx]; y<-y[idx];\n",
    "inside <-inside[idx]"
   ]
  },
  {
   "cell_type": "code",
   "execution_count": null,
   "metadata": {
    "collapsed": false
   },
   "outputs": [],
   "source": [
    "plot(x,y,\n",
    "    col = ifelse(inside, \"blue\",\"red\"),cex=0.5,pch=\".\",\n",
    "    main = sprintf(\"Bootstrap approximation of pi\\nusing %s random samples, pi = %1.5f\", n, pi))"
   ]
  },
  {
   "cell_type": "code",
   "execution_count": null,
   "metadata": {
    "collapsed": true
   },
   "outputs": [],
   "source": []
  }
 ],
 "metadata": {
  "kernelspec": {
   "display_name": "R",
   "language": "R",
   "name": "ir"
  },
  "language_info": {
   "codemirror_mode": "r",
   "file_extension": ".r",
   "mimetype": "text/x-r-source",
   "name": "R",
   "pygments_lexer": "r",
   "version": "3.2.1"
  }
 },
 "nbformat": 4,
 "nbformat_minor": 0
}
